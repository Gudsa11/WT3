{
 "cells": [
  {
   "cell_type": "markdown",
   "id": "29d7bed2-a3ce-4c3d-a7bc-19ea451ce1a6",
   "metadata": {},
   "source": [
    "# WT3 Sample Notebook"
   ]
  },
  {
   "cell_type": "markdown",
   "id": "5e7efa1a-d917-4e87-b2e7-37961468f2c2",
   "metadata": {},
   "source": [
    "## Here is how to calculate `1+1`:"
   ]
  },
  {
   "cell_type": "code",
   "execution_count": 1,
   "id": "c2fe570a-25cc-4f5a-bacc-998d49bb37b4",
   "metadata": {},
   "outputs": [
    {
     "data": {
      "text/plain": [
       "2"
      ]
     },
     "execution_count": 1,
     "metadata": {},
     "output_type": "execute_result"
    }
   ],
   "source": [
    "1+1"
   ]
  },
  {
   "cell_type": "markdown",
   "id": "a1f28a1b-c2d9-4a52-b1ab-dc25e2c26c50",
   "metadata": {},
   "source": [
    "## Here i how to calculate `sin`:"
   ]
  },
  {
   "cell_type": "code",
   "execution_count": 2,
   "id": "0580003e-2b23-4bbc-a631-646d195de02b",
   "metadata": {},
   "outputs": [],
   "source": [
    "from numpy import *"
   ]
  },
  {
   "cell_type": "code",
   "execution_count": 3,
   "id": "d63510a9-331b-42d7-8e0c-003bd9ff97f7",
   "metadata": {},
   "outputs": [],
   "source": [
    "a = array([0, pi/2])"
   ]
  },
  {
   "cell_type": "code",
   "execution_count": 4,
   "id": "b12a9249-f17f-45a8-9ad7-fb748203492d",
   "metadata": {},
   "outputs": [
    {
     "data": {
      "text/plain": [
       "array([0., 1.])"
      ]
     },
     "execution_count": 4,
     "metadata": {},
     "output_type": "execute_result"
    }
   ],
   "source": [
    "sin(a)"
   ]
  },
  {
   "cell_type": "code",
   "execution_count": null,
   "id": "737e794e-f589-4a3e-9200-682310ba539d",
   "metadata": {},
   "outputs": [],
   "source": []
  }
 ],
 "metadata": {
  "kernelspec": {
   "display_name": "Python 3 (ipykernel)",
   "language": "python",
   "name": "python3"
  },
  "language_info": {
   "codemirror_mode": {
    "name": "ipython",
    "version": 3
   },
   "file_extension": ".py",
   "mimetype": "text/x-python",
   "name": "python",
   "nbconvert_exporter": "python",
   "pygments_lexer": "ipython3",
   "version": "3.12.7"
  }
 },
 "nbformat": 4,
 "nbformat_minor": 5
}
