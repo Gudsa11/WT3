{
 "cells": [
  {
   "cell_type": "markdown",
   "id": "17a6e994-add6-4bad-a868-472f956175ec",
   "metadata": {},
   "source": [
    "# WT3 Sample Notebook"
   ]
  },
  {
   "cell_type": "markdown",
   "id": "835dc76b-ce7b-4cd8-b03d-ff56608ed623",
   "metadata": {},
   "source": [
    "## Here is how to calculate `1+1`:"
   ]
  },
  {
   "cell_type": "code",
   "execution_count": 2,
   "id": "f80d1665-142a-41ff-99d6-2a063de4235a",
   "metadata": {},
   "outputs": [
    {
     "data": {
      "text/plain": [
       "2"
      ]
     },
     "execution_count": 2,
     "metadata": {},
     "output_type": "execute_result"
    }
   ],
   "source": [
    "1+1"
   ]
  },
  {
   "cell_type": "markdown",
   "id": "5da48f38-61b0-4e78-a8d6-ebc1177d1508",
   "metadata": {},
   "source": [
    "## Here is ho w to calculate `sin`:"
   ]
  },
  {
   "cell_type": "code",
   "execution_count": 3,
   "id": "be330dcc-f869-4c8f-8447-4a5ece35ed64",
   "metadata": {},
   "outputs": [],
   "source": [
    "from numpy import *"
   ]
  },
  {
   "cell_type": "code",
   "execution_count": 12,
   "id": "042336a4-cfd6-4580-8ae5-863a37366951",
   "metadata": {},
   "outputs": [],
   "source": [
    "a = array([0, pi/2])"
   ]
  },
  {
   "cell_type": "code",
   "execution_count": 13,
   "id": "e8bc75c1-a029-41e9-90f3-678e91d3452b",
   "metadata": {},
   "outputs": [
    {
     "data": {
      "text/plain": [
       "array([0., 1.])"
      ]
     },
     "execution_count": 13,
     "metadata": {},
     "output_type": "execute_result"
    }
   ],
   "source": [
    "sin(a)"
   ]
  },
  {
   "cell_type": "code",
   "execution_count": null,
   "id": "1cd75acf-6a9f-4e35-8983-fb4bce847283",
   "metadata": {},
   "outputs": [],
   "source": []
  }
 ],
 "metadata": {
  "kernelspec": {
   "display_name": "Python 3 (ipykernel)",
   "language": "python",
   "name": "python3"
  },
  "language_info": {
   "codemirror_mode": {
    "name": "ipython",
    "version": 3
   },
   "file_extension": ".py",
   "mimetype": "text/x-python",
   "name": "python",
   "nbconvert_exporter": "python",
   "pygments_lexer": "ipython3",
   "version": "3.12.7"
  }
 },
 "nbformat": 4,
 "nbformat_minor": 5
}
